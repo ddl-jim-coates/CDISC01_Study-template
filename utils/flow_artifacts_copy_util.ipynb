{
 "cells": [
  {
   "cell_type": "markdown",
   "id": "8b398ec1-7528-4a2a-a62e-0a3073435eae",
   "metadata": {},
   "source": [
    "Instructions\n",
    "1. Paste your Flow Artifact code snippet into the CODE_SNIPPET variable below.\n",
    "2. Set the OUTPUT_DIR variable to your desired directory.\n",
    "3. Run the cell below."
   ]
  },
  {
   "cell_type": "code",
   "execution_count": null,
   "id": "c4b93ae3-19a7-42ba-a6a1-357a2e4588ea",
   "metadata": {},
   "outputs": [],
   "source": [
    "\n",
    "CODE_SNIPPET = '''\n",
    "\n",
    "# ----------------------------- #\n",
    "# Paste your code snippet here #\n",
    "# ----------------------------- #\n",
    "\n",
    "'''\n",
    "\n",
    "# --------------------------------------------------------------- #\n",
    "# Set this to the directory you want all blobs to download into   #\n",
    "# --------------------------------------------------------------- #\n",
    "OUTPUT_DIR = \"/mnt/data/scratch\"\n",
    "# e.g. OUTPUT_DIR = \"/mnt/data/ADAM\" or \"mnt/artifacts\"\n",
    "\n",
    "def main():\n",
    "    # Remove or comment-out lines containing 'download_blobs(blobs)'\n",
    "    snippet_without_first_download = []\n",
    "    for line in CODE_SNIPPET.splitlines():\n",
    "        if \"download_blobs(blobs)\" in line:\n",
    "            line = f\"# {line}\"  # comment it out\n",
    "        snippet_without_first_download.append(line)\n",
    "\n",
    "    snippet_cleaned = \"\\n\".join(snippet_without_first_download)\n",
    "\n",
    "    # Then add the override and second download call\n",
    "    updated_snippet = f\"\"\"\n",
    "{snippet_cleaned}\n",
    "\n",
    "for blob in blobs:\n",
    "    blob.local_dir = r\\\"\\\"\\\"{OUTPUT_DIR}\\\"\\\"\\\"\n",
    "\n",
    "download_blobs(blobs)\n",
    "\"\"\"\n",
    "\n",
    "    exec(updated_snippet, globals(), locals())\n",
    "\n",
    "if __name__ == \"__main__\":\n",
    "    main()"
   ]
  }
 ],
 "metadata": {
  "kernelspec": {
   "display_name": "Python 3 (ipykernel)",
   "language": "python",
   "name": "python3"
  },
  "language_info": {
   "codemirror_mode": {
    "name": "ipython",
    "version": 3
   },
   "file_extension": ".py",
   "mimetype": "text/x-python",
   "name": "python",
   "nbconvert_exporter": "python",
   "pygments_lexer": "ipython3",
   "version": "3.10.14"
  }
 },
 "nbformat": 4,
 "nbformat_minor": 5
}
